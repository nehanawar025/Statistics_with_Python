{
  "nbformat": 4,
  "nbformat_minor": 0,
  "metadata": {
    "colab": {
      "provenance": [],
      "authorship_tag": "ABX9TyM2O78mow5UxR9cf4gjz53/",
      "include_colab_link": true
    },
    "kernelspec": {
      "name": "python3",
      "display_name": "Python 3"
    },
    "language_info": {
      "name": "python"
    }
  },
  "cells": [
    {
      "cell_type": "markdown",
      "metadata": {
        "id": "view-in-github",
        "colab_type": "text"
      },
      "source": [
        "<a href=\"https://colab.research.google.com/github/nehanawar025/Statistics_with_Python/blob/main/Mean_Mode_Median.ipynb\" target=\"_parent\"><img src=\"https://colab.research.google.com/assets/colab-badge.svg\" alt=\"Open In Colab\"/></a>"
      ]
    },
    {
      "cell_type": "code",
      "source": [
        "import pandas as pd\n"
      ],
      "metadata": {
        "id": "9m0jQsslquRx"
      },
      "execution_count": 1,
      "outputs": []
    },
    {
      "cell_type": "code",
      "execution_count": null,
      "metadata": {
        "id": "a2i1btgRntXm"
      },
      "outputs": [],
      "source": [
        "!wget https://github.com/nehanawar025/Statistics_with_Python/raw/main/Descriptive_Statistics/data.csv"
      ]
    },
    {
      "cell_type": "code",
      "source": [
        "df = pd.read_csv('data.csv')"
      ],
      "metadata": {
        "id": "5UqynHkjpd1k"
      },
      "execution_count": 3,
      "outputs": []
    },
    {
      "cell_type": "code",
      "source": [
        "n_arr = df.Value.to_list()\n",
        "n_arr"
      ],
      "metadata": {
        "colab": {
          "base_uri": "https://localhost:8080/"
        },
        "id": "RlOyL2tsqcB2",
        "outputId": "77eedeaf-8f81-44a6-9c2e-a2dbb15490e5"
      },
      "execution_count": 7,
      "outputs": [
        {
          "output_type": "execute_result",
          "data": {
            "text/plain": [
              "[5, 7, 6, 8, 7, 9, 5, 8, 6, 7]"
            ]
          },
          "metadata": {},
          "execution_count": 7
        }
      ]
    },
    {
      "cell_type": "code",
      "source": [
        "n = len(n_arr)\n",
        "n"
      ],
      "metadata": {
        "colab": {
          "base_uri": "https://localhost:8080/"
        },
        "id": "HBRWpflMqaIj",
        "outputId": "7ac75719-7889-4d4e-e806-51879e132b88"
      },
      "execution_count": 22,
      "outputs": [
        {
          "output_type": "execute_result",
          "data": {
            "text/plain": [
              "10"
            ]
          },
          "metadata": {},
          "execution_count": 22
        }
      ]
    },
    {
      "cell_type": "markdown",
      "source": [
        "### **Mean**\n",
        "1.   Adding up all the values\n",
        "2.   Then divided it by the total number of values\n",
        "\n"
      ],
      "metadata": {
        "id": "KJqUceJDrzkx"
      }
    },
    {
      "cell_type": "code",
      "source": [
        "n_mean = sum(n_arr)/n\n",
        "n_mean"
      ],
      "metadata": {
        "colab": {
          "base_uri": "https://localhost:8080/"
        },
        "id": "kjK1CvsqrO11",
        "outputId": "526c3604-3347-49d6-9148-93bc0cdea729"
      },
      "execution_count": 23,
      "outputs": [
        {
          "output_type": "execute_result",
          "data": {
            "text/plain": [
              "6.8"
            ]
          },
          "metadata": {},
          "execution_count": 23
        }
      ]
    },
    {
      "cell_type": "markdown",
      "source": [
        "### **Mode**\n",
        "\n",
        "Determined which value appears most frequently in the dataset."
      ],
      "metadata": {
        "id": "YYmQmTv_r4lU"
      }
    },
    {
      "cell_type": "code",
      "source": [
        "countmap = {}\n",
        "for value in n_arr:\n",
        "  if value in countmap:\n",
        "    countmap[value] += 1\n",
        "  else:\n",
        "    countmap[value] = 1\n",
        "\n",
        "\n",
        "max_cnt = 0\n",
        "max_key = 0\n",
        "for value , val_cnt in countmap.items():\n",
        "  if val_cnt > max_cnt:\n",
        "    max_cnt = val_cnt\n",
        "    max_key = value\n",
        "\n",
        "print('Mode=>',max_key)"
      ],
      "metadata": {
        "id": "M3z8V319rcC2",
        "colab": {
          "base_uri": "https://localhost:8080/"
        },
        "outputId": "19a4fda0-356f-4ff9-b61b-ce26db5541d6"
      },
      "execution_count": 65,
      "outputs": [
        {
          "output_type": "stream",
          "name": "stdout",
          "text": [
            "Mode=> 7\n"
          ]
        }
      ]
    },
    {
      "cell_type": "markdown",
      "source": [
        "### **Median**\n",
        "\n",
        "1.   Arranging the values in ascending order\n",
        "2.   Finding the middle value. If there are an even number of values, take the average of the two middle values.\n",
        "\n"
      ],
      "metadata": {
        "id": "0H935ublQH-n"
      }
    },
    {
      "cell_type": "code",
      "source": [
        "n_arr2 = [9,4,7,3,8,1,2,5,7,9,1,0,3,4,5,2,8,9,5,4,3,9]\n",
        "n2 = len(n_arr2)\n",
        "n_arr2.sort()\n",
        "n_arr2"
      ],
      "metadata": {
        "colab": {
          "base_uri": "https://localhost:8080/"
        },
        "id": "ef5x26erPzS2",
        "outputId": "f11fb1a0-5db5-44e7-af03-c1cba950d503"
      },
      "execution_count": 51,
      "outputs": [
        {
          "output_type": "execute_result",
          "data": {
            "text/plain": [
              "[0, 1, 1, 2, 2, 3, 3, 3, 4, 4, 4, 5, 5, 5, 7, 7, 8, 8, 9, 9, 9, 9]"
            ]
          },
          "metadata": {},
          "execution_count": 51
        }
      ]
    },
    {
      "cell_type": "code",
      "source": [
        "if n2 % 2 != 0:\n",
        "  med = n_arr2[n2 // 2 - 1]\n",
        "else:\n",
        "  med = (n_arr2[n2//2-1] + n_arr2[(n2 // 2)])//2\n",
        "\n",
        "print(\"Median=>\",med)"
      ],
      "metadata": {
        "colab": {
          "base_uri": "https://localhost:8080/"
        },
        "id": "tkuflSLkQ5hc",
        "outputId": "c3d53d88-0d38-450f-e603-f548ed0e1217"
      },
      "execution_count": 64,
      "outputs": [
        {
          "output_type": "stream",
          "name": "stdout",
          "text": [
            "Median=> 4\n"
          ]
        }
      ]
    }
  ]
}
