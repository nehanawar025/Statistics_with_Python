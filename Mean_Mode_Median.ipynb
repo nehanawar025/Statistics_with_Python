{
  "nbformat": 4,
  "nbformat_minor": 0,
  "metadata": {
    "colab": {
      "provenance": [],
      "authorship_tag": "ABX9TyO+re5h7R7cvElS07B7O5Q0"
    },
    "kernelspec": {
      "name": "python3",
      "display_name": "Python 3"
    },
    "language_info": {
      "name": "python"
    }
  },
  "cells": [
    {
      "cell_type": "code",
      "source": [
        "import pandas as pd\n",
        "import math"
      ],
      "metadata": {
        "id": "9m0jQsslquRx"
      },
      "execution_count": 90,
      "outputs": []
    },
    {
      "cell_type": "code",
      "execution_count": null,
      "metadata": {
        "id": "a2i1btgRntXm"
      },
      "outputs": [],
      "source": [
        "!wget https://github.com/nehanawar025/Statistics_with_Python/raw/main/Descriptive_Statistics/data.csv"
      ]
    },
    {
      "cell_type": "code",
      "source": [
        "df = pd.read_csv('data.csv')\n",
        "df"
      ],
      "metadata": {
        "id": "5UqynHkjpd1k"
      },
      "execution_count": null,
      "outputs": []
    },
    {
      "cell_type": "code",
      "source": [
        "n_arr = list(df.age.values)"
      ],
      "metadata": {
        "id": "RlOyL2tsqcB2"
      },
      "execution_count": 37,
      "outputs": []
    },
    {
      "cell_type": "code",
      "source": [
        "n = len(n_arr)\n",
        "n"
      ],
      "metadata": {
        "colab": {
          "base_uri": "https://localhost:8080/"
        },
        "id": "HBRWpflMqaIj",
        "outputId": "8b59d527-4520-403e-95ed-04ecb2d3c3b7"
      },
      "execution_count": 38,
      "outputs": [
        {
          "output_type": "execute_result",
          "data": {
            "text/plain": [
              "20"
            ]
          },
          "metadata": {},
          "execution_count": 38
        }
      ]
    },
    {
      "cell_type": "markdown",
      "source": [
        "### **Mean**\n",
        "1.   Adding up all the values\n",
        "2.   Then divided it by the total number of values\n",
        "\n"
      ],
      "metadata": {
        "id": "KJqUceJDrzkx"
      }
    },
    {
      "cell_type": "code",
      "source": [
        "n_mean = sum(n_arr)/n\n",
        "n_mean"
      ],
      "metadata": {
        "colab": {
          "base_uri": "https://localhost:8080/"
        },
        "id": "kjK1CvsqrO11",
        "outputId": "2d95f67d-0300-4e3c-8953-feed87ffad6d"
      },
      "execution_count": 39,
      "outputs": [
        {
          "output_type": "execute_result",
          "data": {
            "text/plain": [
              "32.0"
            ]
          },
          "metadata": {},
          "execution_count": 39
        }
      ]
    },
    {
      "cell_type": "markdown",
      "source": [
        "### **Mode**\n",
        "\n",
        "Determined which value appears most frequently in the dataset."
      ],
      "metadata": {
        "id": "YYmQmTv_r4lU"
      }
    },
    {
      "cell_type": "code",
      "source": [
        "countmap = {}\n",
        "for value in n_arr:\n",
        "  if value in countmap:\n",
        "    countmap[value] += 1\n",
        "  else:\n",
        "    countmap[value] = 1\n",
        "\n",
        "print(countmap.items())\n",
        "max_cnt = 0\n",
        "max_key = 0\n",
        "for value , val_cnt in countmap.items():\n",
        "  if val_cnt > max_cnt:\n",
        "    max_cnt = val_cnt\n",
        "    max_key = value\n",
        "\n",
        "print('Mode=>',max_key)"
      ],
      "metadata": {
        "id": "M3z8V319rcC2",
        "colab": {
          "base_uri": "https://localhost:8080/"
        },
        "outputId": "73758015-36de-4386-9e1c-342951fb9c26"
      },
      "execution_count": 43,
      "outputs": [
        {
          "output_type": "stream",
          "name": "stdout",
          "text": [
            "dict_items([(25, 1), (32, 1), (41, 1), (28, 1), (36, 1), (22, 1), (29, 1), (35, 1), (27, 1), (44, 1), (31, 1), (38, 1), (26, 1), (33, 1), (40, 1), (24, 1), (30, 1), (37, 1), (23, 1), (39, 1)])\n",
            "Mode=> 25\n"
          ]
        }
      ]
    },
    {
      "cell_type": "code",
      "source": [
        "countmap = {}\n",
        "for value in [1,4,5,2,1,6,2,4,5,1,7,2,4,5,1,1]:\n",
        "  if value in countmap:\n",
        "    countmap[value] += 1\n",
        "  else:\n",
        "    countmap[value] = 1\n",
        "\n",
        "print(countmap.items())\n",
        "max_cnt = 0\n",
        "max_key = 0\n",
        "for value , val_cnt in countmap.items():\n",
        "  if val_cnt > max_cnt:\n",
        "    max_cnt = val_cnt\n",
        "    max_key = value\n",
        "\n",
        "print('Mode=>',max_key)"
      ],
      "metadata": {
        "colab": {
          "base_uri": "https://localhost:8080/"
        },
        "id": "TQW7FkQt50F5",
        "outputId": "57f74e94-ad8b-443a-e038-dcccf1b2e2bc"
      },
      "execution_count": 42,
      "outputs": [
        {
          "output_type": "stream",
          "name": "stdout",
          "text": [
            "dict_items([(1, 5), (4, 3), (5, 3), (2, 3), (6, 1), (7, 1)])\n",
            "Mode=> 1\n"
          ]
        }
      ]
    },
    {
      "cell_type": "markdown",
      "source": [
        "### **Median**\n",
        "\n",
        "1.   Arranging the values in ascending order\n",
        "2.   Finding the middle value. If there are an even number of values, take the average of the two middle values.\n",
        "\n",
        "**Ps**. round() function take nearest 'even' integer instead of nearest integer.\n"
      ],
      "metadata": {
        "id": "0H935ublQH-n"
      }
    },
    {
      "cell_type": "code",
      "source": [
        "n_arr2 = [9,4,7,3,8,1,2,5,7,9,1,0,2,8,9,4,3,9,10,11]\n",
        "n2 = len(n_arr2)\n",
        "n_arr2.sort()\n",
        "n_arr2"
      ],
      "metadata": {
        "colab": {
          "base_uri": "https://localhost:8080/"
        },
        "id": "ef5x26erPzS2",
        "outputId": "e431878a-74fd-46e3-c279-155eeb408051"
      },
      "execution_count": 85,
      "outputs": [
        {
          "output_type": "execute_result",
          "data": {
            "text/plain": [
              "[0, 1, 1, 2, 2, 3, 3, 4, 4, 5, 7, 7, 8, 8, 9, 9, 9, 9, 10, 11]"
            ]
          },
          "metadata": {},
          "execution_count": 85
        }
      ]
    },
    {
      "cell_type": "code",
      "source": [
        "print(round((3+4)/2,0))\n",
        "print(round((4+5)/2, 0))\n",
        "print(int(round((4+5)/2)))"
      ],
      "metadata": {
        "colab": {
          "base_uri": "https://localhost:8080/"
        },
        "id": "Y4YnHWFgA-jt",
        "outputId": "e03afd61-9502-4204-8e70-230814ec7a08"
      },
      "execution_count": 73,
      "outputs": [
        {
          "output_type": "stream",
          "name": "stdout",
          "text": [
            "4.0\n",
            "4.0\n",
            "4\n"
          ]
        }
      ]
    },
    {
      "cell_type": "code",
      "source": [
        "if n2 % 2 != 0:\n",
        "  # med = n_arr2[round((n2 / 2))]\n",
        "  med = round((n2 / 2))-1\n",
        "  n_med = n_arr2[med]\n",
        "\n",
        "else:\n",
        "  med = ( ((n2/2)-1) + (n2/2) ) / 2 #8.5\n",
        "  before_dec = int(med)   #8\n",
        "\n",
        "  if before_dec % 2 == 0:\n",
        "    med = math.ceil(med)   #9\n",
        "  else:\n",
        "    med = round(med)\n",
        "\n",
        "  n_med = n_arr2[med]\n",
        "\n",
        "\n",
        "print(\"Median=>\",n_med)"
      ],
      "metadata": {
        "colab": {
          "base_uri": "https://localhost:8080/"
        },
        "id": "tkuflSLkQ5hc",
        "outputId": "fc18c4c8-8f27-4986-8e95-67eb7aea65ef"
      },
      "execution_count": 89,
      "outputs": [
        {
          "output_type": "stream",
          "name": "stdout",
          "text": [
            "Median=> 7\n"
          ]
        }
      ]
    },
    {
      "cell_type": "code",
      "source": [],
      "metadata": {
        "id": "FfCCZ2aAUKl6"
      },
      "execution_count": null,
      "outputs": []
    }
  ]
}